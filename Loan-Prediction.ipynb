{
 "cells": [
  {
   "cell_type": "code",
   "execution_count": 1,
   "metadata": {},
   "outputs": [],
   "source": [
    "# Importing neccessary libraries.\n",
    "import pandas as pd\n",
    "import numpy as np\n",
    "import seaborn as sns\n",
    "import matplotlib.pyplot as plt\n",
    "%matplotlib inline\n",
    "import warnings\n",
    "warnings.filterwarnings=(\"ignore\")"
   ]
  },
  {
   "cell_type": "code",
   "execution_count": 2,
   "metadata": {},
   "outputs": [],
   "source": [
    "from sklearn.preprocessing import LabelEncoder\n",
    "from sklearn.preprocessing import StandardScaler\n",
    "from sklearn.model_selection import train_test_split\n",
    "from sklearn import metrics\n",
    "from sklearn.metrics import accuracy_score, auc, confusion_matrix, roc_auc_score, roc_curve, recall_score\n",
    "from sklearn.linear_model import LogisticRegression\n",
    "from sklearn.naive_bayes import GaussianNB\n",
    "from sklearn.tree import DecisionTreeClassifier\n",
    "from sklearn.tree import export_graphviz\n",
    "from sklearn.ensemble import RandomForestClassifier\n",
    "from sklearn.neighbors import KNeighborsClassifier\n",
    "from sklearn.svm import SVC\n",
    "from sklearn.model_selection import KFold\n",
    "from sklearn.model_selection import cross_val_score\n",
    "from sklearn.model_selection import GridSearchCV"
   ]
  },
  {
   "cell_type": "code",
   "execution_count": 3,
   "metadata": {},
   "outputs": [],
   "source": [
    "# Loading the train and test data.\n",
    "train_df=pd.read_csv('Loan_train.csv')\n",
    "test_df=pd.read_csv('Loan_Test.csv')"
   ]
  },
  {
   "cell_type": "markdown",
   "metadata": {},
   "source": [
    "# Data Understanding."
   ]
  },
  {
   "cell_type": "code",
   "execution_count": 4,
   "metadata": {},
   "outputs": [
    {
     "data": {
      "text/html": [
       "<div>\n",
       "<style scoped>\n",
       "    .dataframe tbody tr th:only-of-type {\n",
       "        vertical-align: middle;\n",
       "    }\n",
       "\n",
       "    .dataframe tbody tr th {\n",
       "        vertical-align: top;\n",
       "    }\n",
       "\n",
       "    .dataframe thead th {\n",
       "        text-align: right;\n",
       "    }\n",
       "</style>\n",
       "<table border=\"1\" class=\"dataframe\">\n",
       "  <thead>\n",
       "    <tr style=\"text-align: right;\">\n",
       "      <th></th>\n",
       "      <th>Loan_ID</th>\n",
       "      <th>Gender</th>\n",
       "      <th>Married</th>\n",
       "      <th>Dependents</th>\n",
       "      <th>Education</th>\n",
       "      <th>Self_Employed</th>\n",
       "      <th>ApplicantIncome</th>\n",
       "      <th>CoapplicantIncome</th>\n",
       "      <th>LoanAmount</th>\n",
       "      <th>Loan_Amount_Term</th>\n",
       "      <th>Credit_History</th>\n",
       "      <th>Property_Area</th>\n",
       "      <th>Loan_Status</th>\n",
       "    </tr>\n",
       "  </thead>\n",
       "  <tbody>\n",
       "    <tr>\n",
       "      <td>0</td>\n",
       "      <td>LP001002</td>\n",
       "      <td>Male</td>\n",
       "      <td>No</td>\n",
       "      <td>0</td>\n",
       "      <td>Graduate</td>\n",
       "      <td>No</td>\n",
       "      <td>5849</td>\n",
       "      <td>0.0</td>\n",
       "      <td>NaN</td>\n",
       "      <td>360.0</td>\n",
       "      <td>1.0</td>\n",
       "      <td>Urban</td>\n",
       "      <td>Y</td>\n",
       "    </tr>\n",
       "    <tr>\n",
       "      <td>1</td>\n",
       "      <td>LP001003</td>\n",
       "      <td>Male</td>\n",
       "      <td>Yes</td>\n",
       "      <td>1</td>\n",
       "      <td>Graduate</td>\n",
       "      <td>No</td>\n",
       "      <td>4583</td>\n",
       "      <td>1508.0</td>\n",
       "      <td>128.0</td>\n",
       "      <td>360.0</td>\n",
       "      <td>1.0</td>\n",
       "      <td>Rural</td>\n",
       "      <td>N</td>\n",
       "    </tr>\n",
       "    <tr>\n",
       "      <td>2</td>\n",
       "      <td>LP001005</td>\n",
       "      <td>Male</td>\n",
       "      <td>Yes</td>\n",
       "      <td>0</td>\n",
       "      <td>Graduate</td>\n",
       "      <td>Yes</td>\n",
       "      <td>3000</td>\n",
       "      <td>0.0</td>\n",
       "      <td>66.0</td>\n",
       "      <td>360.0</td>\n",
       "      <td>1.0</td>\n",
       "      <td>Urban</td>\n",
       "      <td>Y</td>\n",
       "    </tr>\n",
       "    <tr>\n",
       "      <td>3</td>\n",
       "      <td>LP001006</td>\n",
       "      <td>Male</td>\n",
       "      <td>Yes</td>\n",
       "      <td>0</td>\n",
       "      <td>Not Graduate</td>\n",
       "      <td>No</td>\n",
       "      <td>2583</td>\n",
       "      <td>2358.0</td>\n",
       "      <td>120.0</td>\n",
       "      <td>360.0</td>\n",
       "      <td>1.0</td>\n",
       "      <td>Urban</td>\n",
       "      <td>Y</td>\n",
       "    </tr>\n",
       "    <tr>\n",
       "      <td>4</td>\n",
       "      <td>LP001008</td>\n",
       "      <td>Male</td>\n",
       "      <td>No</td>\n",
       "      <td>0</td>\n",
       "      <td>Graduate</td>\n",
       "      <td>No</td>\n",
       "      <td>6000</td>\n",
       "      <td>0.0</td>\n",
       "      <td>141.0</td>\n",
       "      <td>360.0</td>\n",
       "      <td>1.0</td>\n",
       "      <td>Urban</td>\n",
       "      <td>Y</td>\n",
       "    </tr>\n",
       "  </tbody>\n",
       "</table>\n",
       "</div>"
      ],
      "text/plain": [
       "    Loan_ID Gender Married Dependents     Education Self_Employed  \\\n",
       "0  LP001002   Male      No          0      Graduate            No   \n",
       "1  LP001003   Male     Yes          1      Graduate            No   \n",
       "2  LP001005   Male     Yes          0      Graduate           Yes   \n",
       "3  LP001006   Male     Yes          0  Not Graduate            No   \n",
       "4  LP001008   Male      No          0      Graduate            No   \n",
       "\n",
       "   ApplicantIncome  CoapplicantIncome  LoanAmount  Loan_Amount_Term  \\\n",
       "0             5849                0.0         NaN             360.0   \n",
       "1             4583             1508.0       128.0             360.0   \n",
       "2             3000                0.0        66.0             360.0   \n",
       "3             2583             2358.0       120.0             360.0   \n",
       "4             6000                0.0       141.0             360.0   \n",
       "\n",
       "   Credit_History Property_Area Loan_Status  \n",
       "0             1.0         Urban           Y  \n",
       "1             1.0         Rural           N  \n",
       "2             1.0         Urban           Y  \n",
       "3             1.0         Urban           Y  \n",
       "4             1.0         Urban           Y  "
      ]
     },
     "execution_count": 4,
     "metadata": {},
     "output_type": "execute_result"
    }
   ],
   "source": [
    "train_df.head()"
   ]
  },
  {
   "cell_type": "code",
   "execution_count": 5,
   "metadata": {},
   "outputs": [],
   "source": [
    "# Dropping Loan_ID\n",
    "train_df=train_df.drop(['Loan_ID'],axis=1)"
   ]
  },
  {
   "cell_type": "code",
   "execution_count": 6,
   "metadata": {},
   "outputs": [
    {
     "data": {
      "text/plain": [
       "0     345\n",
       "1     102\n",
       "2     101\n",
       "3+     51\n",
       "Name: Dependents, dtype: int64"
      ]
     },
     "execution_count": 6,
     "metadata": {},
     "output_type": "execute_result"
    }
   ],
   "source": [
    "# Checking the type of categories in the Dependents Column.\n",
    "train_df['Dependents'].value_counts()"
   ]
  },
  {
   "cell_type": "code",
   "execution_count": 7,
   "metadata": {},
   "outputs": [
    {
     "data": {
      "text/plain": [
       "Graduate        480\n",
       "Not Graduate    134\n",
       "Name: Education, dtype: int64"
      ]
     },
     "execution_count": 7,
     "metadata": {},
     "output_type": "execute_result"
    }
   ],
   "source": [
    "# Checking the type of categories in the Education Column.\n",
    "train_df['Education'].value_counts()"
   ]
  },
  {
   "cell_type": "code",
   "execution_count": 8,
   "metadata": {},
   "outputs": [
    {
     "data": {
      "text/plain": [
       "Semiurban    233\n",
       "Urban        202\n",
       "Rural        179\n",
       "Name: Property_Area, dtype: int64"
      ]
     },
     "execution_count": 8,
     "metadata": {},
     "output_type": "execute_result"
    }
   ],
   "source": [
    "# Checking the type of categories in the Property_Area Column.\n",
    "train_df['Property_Area'].value_counts()"
   ]
  },
  {
   "cell_type": "code",
   "execution_count": 9,
   "metadata": {},
   "outputs": [
    {
     "name": "stdout",
     "output_type": "stream",
     "text": [
      "<class 'pandas.core.frame.DataFrame'>\n",
      "RangeIndex: 614 entries, 0 to 613\n",
      "Data columns (total 12 columns):\n",
      "Gender               601 non-null object\n",
      "Married              611 non-null object\n",
      "Dependents           599 non-null object\n",
      "Education            614 non-null object\n",
      "Self_Employed        582 non-null object\n",
      "ApplicantIncome      614 non-null int64\n",
      "CoapplicantIncome    614 non-null float64\n",
      "LoanAmount           592 non-null float64\n",
      "Loan_Amount_Term     600 non-null float64\n",
      "Credit_History       564 non-null float64\n",
      "Property_Area        614 non-null object\n",
      "Loan_Status          614 non-null object\n",
      "dtypes: float64(4), int64(1), object(7)\n",
      "memory usage: 57.7+ KB\n"
     ]
    }
   ],
   "source": [
    "train_df.info()"
   ]
  },
  {
   "cell_type": "code",
   "execution_count": 10,
   "metadata": {},
   "outputs": [
    {
     "data": {
      "text/html": [
       "<div>\n",
       "<style scoped>\n",
       "    .dataframe tbody tr th:only-of-type {\n",
       "        vertical-align: middle;\n",
       "    }\n",
       "\n",
       "    .dataframe tbody tr th {\n",
       "        vertical-align: top;\n",
       "    }\n",
       "\n",
       "    .dataframe thead th {\n",
       "        text-align: right;\n",
       "    }\n",
       "</style>\n",
       "<table border=\"1\" class=\"dataframe\">\n",
       "  <thead>\n",
       "    <tr style=\"text-align: right;\">\n",
       "      <th></th>\n",
       "      <th>ApplicantIncome</th>\n",
       "      <th>CoapplicantIncome</th>\n",
       "      <th>LoanAmount</th>\n",
       "      <th>Loan_Amount_Term</th>\n",
       "      <th>Credit_History</th>\n",
       "    </tr>\n",
       "  </thead>\n",
       "  <tbody>\n",
       "    <tr>\n",
       "      <td>count</td>\n",
       "      <td>614.000000</td>\n",
       "      <td>614.000000</td>\n",
       "      <td>592.000000</td>\n",
       "      <td>600.00000</td>\n",
       "      <td>564.000000</td>\n",
       "    </tr>\n",
       "    <tr>\n",
       "      <td>mean</td>\n",
       "      <td>5403.459283</td>\n",
       "      <td>1621.245798</td>\n",
       "      <td>146.412162</td>\n",
       "      <td>342.00000</td>\n",
       "      <td>0.842199</td>\n",
       "    </tr>\n",
       "    <tr>\n",
       "      <td>std</td>\n",
       "      <td>6109.041673</td>\n",
       "      <td>2926.248369</td>\n",
       "      <td>85.587325</td>\n",
       "      <td>65.12041</td>\n",
       "      <td>0.364878</td>\n",
       "    </tr>\n",
       "    <tr>\n",
       "      <td>min</td>\n",
       "      <td>150.000000</td>\n",
       "      <td>0.000000</td>\n",
       "      <td>9.000000</td>\n",
       "      <td>12.00000</td>\n",
       "      <td>0.000000</td>\n",
       "    </tr>\n",
       "    <tr>\n",
       "      <td>25%</td>\n",
       "      <td>2877.500000</td>\n",
       "      <td>0.000000</td>\n",
       "      <td>100.000000</td>\n",
       "      <td>360.00000</td>\n",
       "      <td>1.000000</td>\n",
       "    </tr>\n",
       "    <tr>\n",
       "      <td>50%</td>\n",
       "      <td>3812.500000</td>\n",
       "      <td>1188.500000</td>\n",
       "      <td>128.000000</td>\n",
       "      <td>360.00000</td>\n",
       "      <td>1.000000</td>\n",
       "    </tr>\n",
       "    <tr>\n",
       "      <td>75%</td>\n",
       "      <td>5795.000000</td>\n",
       "      <td>2297.250000</td>\n",
       "      <td>168.000000</td>\n",
       "      <td>360.00000</td>\n",
       "      <td>1.000000</td>\n",
       "    </tr>\n",
       "    <tr>\n",
       "      <td>max</td>\n",
       "      <td>81000.000000</td>\n",
       "      <td>41667.000000</td>\n",
       "      <td>700.000000</td>\n",
       "      <td>480.00000</td>\n",
       "      <td>1.000000</td>\n",
       "    </tr>\n",
       "  </tbody>\n",
       "</table>\n",
       "</div>"
      ],
      "text/plain": [
       "       ApplicantIncome  CoapplicantIncome  LoanAmount  Loan_Amount_Term  \\\n",
       "count       614.000000         614.000000  592.000000         600.00000   \n",
       "mean       5403.459283        1621.245798  146.412162         342.00000   \n",
       "std        6109.041673        2926.248369   85.587325          65.12041   \n",
       "min         150.000000           0.000000    9.000000          12.00000   \n",
       "25%        2877.500000           0.000000  100.000000         360.00000   \n",
       "50%        3812.500000        1188.500000  128.000000         360.00000   \n",
       "75%        5795.000000        2297.250000  168.000000         360.00000   \n",
       "max       81000.000000       41667.000000  700.000000         480.00000   \n",
       "\n",
       "       Credit_History  \n",
       "count      564.000000  \n",
       "mean         0.842199  \n",
       "std          0.364878  \n",
       "min          0.000000  \n",
       "25%          1.000000  \n",
       "50%          1.000000  \n",
       "75%          1.000000  \n",
       "max          1.000000  "
      ]
     },
     "execution_count": 10,
     "metadata": {},
     "output_type": "execute_result"
    }
   ],
   "source": [
    "train_df.describe()"
   ]
  },
  {
   "cell_type": "code",
   "execution_count": 11,
   "metadata": {},
   "outputs": [
    {
     "data": {
      "text/plain": [
       "(614, 12)"
      ]
     },
     "execution_count": 11,
     "metadata": {},
     "output_type": "execute_result"
    }
   ],
   "source": [
    "train_df.shape"
   ]
  },
  {
   "cell_type": "code",
   "execution_count": 12,
   "metadata": {},
   "outputs": [
    {
     "data": {
      "text/plain": [
       "(367, 12)"
      ]
     },
     "execution_count": 12,
     "metadata": {},
     "output_type": "execute_result"
    }
   ],
   "source": [
    "test_df.shape"
   ]
  },
  {
   "cell_type": "code",
   "execution_count": 13,
   "metadata": {},
   "outputs": [
    {
     "data": {
      "text/plain": [
       "Gender               13\n",
       "Married               3\n",
       "Dependents           15\n",
       "Education             0\n",
       "Self_Employed        32\n",
       "ApplicantIncome       0\n",
       "CoapplicantIncome     0\n",
       "LoanAmount           22\n",
       "Loan_Amount_Term     14\n",
       "Credit_History       50\n",
       "Property_Area         0\n",
       "Loan_Status           0\n",
       "dtype: int64"
      ]
     },
     "execution_count": 13,
     "metadata": {},
     "output_type": "execute_result"
    }
   ],
   "source": [
    "# Checking if there are null values in the train dataset.\n",
    "train_df.isnull().sum()"
   ]
  },
  {
   "cell_type": "markdown",
   "metadata": {},
   "source": [
    "# Data Imputation on train data set."
   ]
  },
  {
   "cell_type": "code",
   "execution_count": 14,
   "metadata": {},
   "outputs": [],
   "source": [
    "#Categorical data is imputed with mode and numerical data is imputed with mean.\n",
    "\n",
    "train_df['Gender']=train_df['Gender'].fillna(train_df['Gender'].mode()[0])\n",
    "train_df['Married']=train_df['Married'].fillna(train_df['Married'].mode()[0])\n",
    "train_df['Dependents']=train_df['Dependents'].fillna(train_df['Dependents'].mode()[0])\n",
    "train_df['Self_Employed']=train_df['Self_Employed'].fillna(train_df['Self_Employed'].mode()[0])\n",
    "\n",
    "train_df['LoanAmount']=train_df['LoanAmount'].fillna(train_df['LoanAmount'].mean())\n",
    "train_df['Loan_Amount_Term']=train_df['Loan_Amount_Term'].fillna(train_df['Loan_Amount_Term'].mean())\n",
    "train_df['Credit_History']=train_df['Credit_History'].fillna(train_df['Credit_History'].mean())"
   ]
  },
  {
   "cell_type": "code",
   "execution_count": 15,
   "metadata": {},
   "outputs": [
    {
     "data": {
      "text/plain": [
       "Gender               0\n",
       "Married              0\n",
       "Dependents           0\n",
       "Education            0\n",
       "Self_Employed        0\n",
       "ApplicantIncome      0\n",
       "CoapplicantIncome    0\n",
       "LoanAmount           0\n",
       "Loan_Amount_Term     0\n",
       "Credit_History       0\n",
       "Property_Area        0\n",
       "Loan_Status          0\n",
       "dtype: int64"
      ]
     },
     "execution_count": 15,
     "metadata": {},
     "output_type": "execute_result"
    }
   ],
   "source": [
    "# Hence we have successfully imputed the missing data.\n",
    "train_df.isnull().sum()"
   ]
  },
  {
   "cell_type": "markdown",
   "metadata": {},
   "source": [
    "# Data Visualization."
   ]
  },
  {
   "cell_type": "code",
   "execution_count": 16,
   "metadata": {},
   "outputs": [
    {
     "data": {
      "text/plain": [
       "<seaborn.axisgrid.PairGrid at 0x18bf138a8c8>"
      ]
     },
     "execution_count": 16,
     "metadata": {},
     "output_type": "execute_result"
    },
    {
     "data": {
      "image/png": "[encoded data removed]",
      "text/plain": [
       "<Figure size 900x900 with 30 Axes>"
      ]
     },
     "metadata": {
      "needs_background": "light"
     },
     "output_type": "display_data"
    }
   ],
   "source": [
    "sns.pairplot(train_df)"
   ]
  },
  {
   "cell_type": "code",
   "execution_count": 17,
   "metadata": {},
   "outputs": [
    {
     "data": {
      "text/plain": [
       "<AxesSubplot:xlabel='Gender', ylabel='LoanAmount'>"
      ]
     },
     "execution_count": 17,
     "metadata": {},
     "output_type": "execute_result"
    },
    {
     "data": {
      "image/png": "[encoded data removed]",
      "text/plain": [
       "<Figure size 720x432 with 1 Axes>"
      ]
     },
     "metadata": {
      "needs_background": "light"
     },
     "output_type": "display_data"
    }
   ],
   "source": [
    "plt.figure(figsize=(10, 6))\n",
    "sns.barplot(x='Gender',y='LoanAmount',data=train_df)"
   ]
  },
  {
   "cell_type": "code",
   "execution_count": 18,
   "metadata": {},
   "outputs": [],
   "source": [
    "# It can be seen that there are more number of males applying for loan compared to females."
   ]
  },
  {
   "cell_type": "code",
   "execution_count": 19,
   "metadata": {},
   "outputs": [
    {
     "data": {
      "text/plain": [
       "<AxesSubplot:xlabel='Gender', ylabel='Loan_Amount_Term'>"
      ]
     },
     "execution_count": 19,
     "metadata": {},
     "output_type": "execute_result"
    },
    {
     "data": {
      "image/png": "[encoded data removed]",
      "text/plain": [
       "<Figure size 720x432 with 1 Axes>"
      ]
     },
     "metadata": {
      "needs_background": "light"
     },
     "output_type": "display_data"
    }
   ],
   "source": [
    "plt.figure(figsize=(10, 6))\n",
    "sns.barplot(x='Gender',y='Loan_Amount_Term',data=train_df)"
   ]
  },
  {
   "cell_type": "code",
   "execution_count": 20,
   "metadata": {},
   "outputs": [],
   "source": [
    "# The term of loan taken is higher for the Female gender."
   ]
  },
  {
   "cell_type": "markdown",
   "metadata": {},
   "source": [
    "# Label encoding categorical values for train data."
   ]
  },
  {
   "cell_type": "code",
   "execution_count": 21,
   "metadata": {},
   "outputs": [
    {
     "data": {
      "text/plain": [
       "Gender                 int32\n",
       "Married                int32\n",
       "Dependents             int32\n",
       "Education              int32\n",
       "Self_Employed          int32\n",
       "ApplicantIncome        int64\n",
       "CoapplicantIncome    float64\n",
       "LoanAmount           float64\n",
       "Loan_Amount_Term     float64\n",
       "Credit_History       float64\n",
       "Property_Area          int32\n",
       "Loan_Status            int32\n",
       "dtype: object"
      ]
     },
     "execution_count": 21,
     "metadata": {},
     "output_type": "execute_result"
    }
   ],
   "source": [
    "cat_cols=['Gender','Married','Dependents','Education','Self_Employed','Property_Area','Loan_Status']\n",
    "le=LabelEncoder()\n",
    "for i in cat_cols:\n",
    "    train_df[i]=le.fit_transform(train_df[i])\n",
    "train_df.dtypes    "
   ]
  },
  {
   "cell_type": "markdown",
   "metadata": {},
   "source": [
    "# DistributionPlot "
   ]
  },
  {
   "cell_type": "code",
   "execution_count": 22,
   "metadata": {},
   "outputs": [
    {
     "data": {
      "image/png": "[encoded data removed]",
      "text/plain": [
       "<Figure size 1152x288 with 10 Axes>"
      ]
     },
     "metadata": {
      "needs_background": "light"
     },
     "output_type": "display_data"
    }
   ],
   "source": [
    "rows=2\n",
    "cols=5\n",
    "fig, ax=plt.subplots(nrows=rows,ncols=cols,figsize=(16,4))\n",
    "col=train_df.columns\n",
    "index=0\n",
    "for i in range(rows):\n",
    "    for j in range(cols):\n",
    "        sns.distplot(train_df[col[index]],ax=ax[i][j])\n",
    "        index=index+1\n",
    "        \n",
    "plt.tight_layout()"
   ]
  },
  {
   "cell_type": "markdown",
   "metadata": {},
   "source": [
    "# LogTransformation."
   ]
  },
  {
   "cell_type": "code",
   "execution_count": 23,
   "metadata": {},
   "outputs": [],
   "source": [
    "# we need to apply log transformations in order to bring the graph into a symmetric bell curve graph.\n",
    "# We need to apply log transformations on ApplicantIncome,CoapplicantIncome, and LoanAmount."
   ]
  },
  {
   "cell_type": "code",
   "execution_count": 24,
   "metadata": {},
   "outputs": [],
   "source": [
    "train_df['totalIncome']=train_df['ApplicantIncome']+train_df['CoapplicantIncome']"
   ]
  },
  {
   "cell_type": "code",
   "execution_count": 25,
   "metadata": {},
   "outputs": [],
   "source": [
    "train_df['LogTotalIncome']=np.log(train_df['totalIncome'])"
   ]
  },
  {
   "cell_type": "code",
   "execution_count": 26,
   "metadata": {},
   "outputs": [],
   "source": [
    "train_df['LogLoanAmount']=np.log(train_df['LoanAmount'])"
   ]
  },
  {
   "cell_type": "code",
   "execution_count": 27,
   "metadata": {},
   "outputs": [
    {
     "data": {
      "text/plain": [
       "Index(['Gender', 'Married', 'Dependents', 'Education', 'Self_Employed',\n",
       "       'ApplicantIncome', 'CoapplicantIncome', 'LoanAmount',\n",
       "       'Loan_Amount_Term', 'Credit_History', 'Property_Area', 'Loan_Status',\n",
       "       'totalIncome', 'LogTotalIncome', 'LogLoanAmount'],\n",
       "      dtype='object')"
      ]
     },
     "execution_count": 27,
     "metadata": {},
     "output_type": "execute_result"
    }
   ],
   "source": [
    "train_df.keys()"
   ]
  },
  {
   "cell_type": "markdown",
   "metadata": {},
   "source": [
    "# Splitting the dataset."
   ]
  },
  {
   "cell_type": "code",
   "execution_count": 28,
   "metadata": {},
   "outputs": [
    {
     "data": {
      "text/html": [
       "<div>\n",
       "<style scoped>\n",
       "    .dataframe tbody tr th:only-of-type {\n",
       "        vertical-align: middle;\n",
       "    }\n",
       "\n",
       "    .dataframe tbody tr th {\n",
       "        vertical-align: top;\n",
       "    }\n",
       "\n",
       "    .dataframe thead th {\n",
       "        text-align: right;\n",
       "    }\n",
       "</style>\n",
       "<table border=\"1\" class=\"dataframe\">\n",
       "  <thead>\n",
       "    <tr style=\"text-align: right;\">\n",
       "      <th></th>\n",
       "      <th>Gender</th>\n",
       "      <th>Married</th>\n",
       "      <th>Dependents</th>\n",
       "      <th>Education</th>\n",
       "      <th>Self_Employed</th>\n",
       "      <th>ApplicantIncome</th>\n",
       "      <th>CoapplicantIncome</th>\n",
       "      <th>LoanAmount</th>\n",
       "      <th>Loan_Amount_Term</th>\n",
       "      <th>Credit_History</th>\n",
       "      <th>Property_Area</th>\n",
       "      <th>totalIncome</th>\n",
       "      <th>LogTotalIncome</th>\n",
       "      <th>LogLoanAmount</th>\n",
       "    </tr>\n",
       "  </thead>\n",
       "  <tbody>\n",
       "    <tr>\n",
       "      <td>0</td>\n",
       "      <td>1</td>\n",
       "      <td>0</td>\n",
       "      <td>0</td>\n",
       "      <td>0</td>\n",
       "      <td>0</td>\n",
       "      <td>5849</td>\n",
       "      <td>0.0</td>\n",
       "      <td>146.412162</td>\n",
       "      <td>360.0</td>\n",
       "      <td>1.0</td>\n",
       "      <td>2</td>\n",
       "      <td>5849.0</td>\n",
       "      <td>8.674026</td>\n",
       "      <td>4.986426</td>\n",
       "    </tr>\n",
       "    <tr>\n",
       "      <td>1</td>\n",
       "      <td>1</td>\n",
       "      <td>1</td>\n",
       "      <td>1</td>\n",
       "      <td>0</td>\n",
       "      <td>0</td>\n",
       "      <td>4583</td>\n",
       "      <td>1508.0</td>\n",
       "      <td>128.000000</td>\n",
       "      <td>360.0</td>\n",
       "      <td>1.0</td>\n",
       "      <td>0</td>\n",
       "      <td>6091.0</td>\n",
       "      <td>8.714568</td>\n",
       "      <td>4.852030</td>\n",
       "    </tr>\n",
       "    <tr>\n",
       "      <td>2</td>\n",
       "      <td>1</td>\n",
       "      <td>1</td>\n",
       "      <td>0</td>\n",
       "      <td>0</td>\n",
       "      <td>1</td>\n",
       "      <td>3000</td>\n",
       "      <td>0.0</td>\n",
       "      <td>66.000000</td>\n",
       "      <td>360.0</td>\n",
       "      <td>1.0</td>\n",
       "      <td>2</td>\n",
       "      <td>3000.0</td>\n",
       "      <td>8.006368</td>\n",
       "      <td>4.189655</td>\n",
       "    </tr>\n",
       "    <tr>\n",
       "      <td>3</td>\n",
       "      <td>1</td>\n",
       "      <td>1</td>\n",
       "      <td>0</td>\n",
       "      <td>1</td>\n",
       "      <td>0</td>\n",
       "      <td>2583</td>\n",
       "      <td>2358.0</td>\n",
       "      <td>120.000000</td>\n",
       "      <td>360.0</td>\n",
       "      <td>1.0</td>\n",
       "      <td>2</td>\n",
       "      <td>4941.0</td>\n",
       "      <td>8.505323</td>\n",
       "      <td>4.787492</td>\n",
       "    </tr>\n",
       "    <tr>\n",
       "      <td>4</td>\n",
       "      <td>1</td>\n",
       "      <td>0</td>\n",
       "      <td>0</td>\n",
       "      <td>0</td>\n",
       "      <td>0</td>\n",
       "      <td>6000</td>\n",
       "      <td>0.0</td>\n",
       "      <td>141.000000</td>\n",
       "      <td>360.0</td>\n",
       "      <td>1.0</td>\n",
       "      <td>2</td>\n",
       "      <td>6000.0</td>\n",
       "      <td>8.699515</td>\n",
       "      <td>4.948760</td>\n",
       "    </tr>\n",
       "  </tbody>\n",
       "</table>\n",
       "</div>"
      ],
      "text/plain": [
       "   Gender  Married  Dependents  Education  Self_Employed  ApplicantIncome  \\\n",
       "0       1        0           0          0              0             5849   \n",
       "1       1        1           1          0              0             4583   \n",
       "2       1        1           0          0              1             3000   \n",
       "3       1        1           0          1              0             2583   \n",
       "4       1        0           0          0              0             6000   \n",
       "\n",
       "   CoapplicantIncome  LoanAmount  Loan_Amount_Term  Credit_History  \\\n",
       "0                0.0  146.412162             360.0             1.0   \n",
       "1             1508.0  128.000000             360.0             1.0   \n",
       "2                0.0   66.000000             360.0             1.0   \n",
       "3             2358.0  120.000000             360.0             1.0   \n",
       "4                0.0  141.000000             360.0             1.0   \n",
       "\n",
       "   Property_Area  totalIncome  LogTotalIncome  LogLoanAmount  \n",
       "0              2       5849.0        8.674026       4.986426  \n",
       "1              0       6091.0        8.714568       4.852030  \n",
       "2              2       3000.0        8.006368       4.189655  \n",
       "3              2       4941.0        8.505323       4.787492  \n",
       "4              2       6000.0        8.699515       4.948760  "
      ]
     },
     "execution_count": 28,
     "metadata": {},
     "output_type": "execute_result"
    }
   ],
   "source": [
    "X=train_df.drop(labels=['Loan_Status'],axis=1)\n",
    "Y=train_df['Loan_Status']\n",
    "X.head()"
   ]
  },
  {
   "cell_type": "code",
   "execution_count": 29,
   "metadata": {},
   "outputs": [
    {
     "data": {
      "text/plain": [
       "0    1\n",
       "1    0\n",
       "2    1\n",
       "3    1\n",
       "4    1\n",
       "Name: Loan_Status, dtype: int32"
      ]
     },
     "execution_count": 29,
     "metadata": {},
     "output_type": "execute_result"
    }
   ],
   "source": [
    "Y.head()"
   ]
  },
  {
   "cell_type": "code",
   "execution_count": 30,
   "metadata": {},
   "outputs": [
    {
     "name": "stdout",
     "output_type": "stream",
     "text": [
      "(491, 14) (123, 14) (491,) (123,)\n"
     ]
    }
   ],
   "source": [
    "X_train,X_test,Y_train,Y_test=train_test_split(X,Y,test_size=0.2,random_state=40)\n",
    "print(X_train.shape,X_test.shape,Y_train.shape,Y_test.shape)"
   ]
  },
  {
   "cell_type": "markdown",
   "metadata": {},
   "source": [
    "# Logistic Regression."
   ]
  },
  {
   "cell_type": "code",
   "execution_count": 31,
   "metadata": {},
   "outputs": [
    {
     "name": "stdout",
     "output_type": "stream",
     "text": [
      "Model accuracy on train is:  0.8044806517311609\n",
      "Model accuracy on test is:  0.8373983739837398\n",
      "--------------------------------------------------\n",
      "ROC score on train is:  0.7145868624129492\n",
      "ROC score on test is:  0.6881136044880785\n",
      "--------------------------------------------------\n",
      "confusion_matrix train is:  [[ 73  88]\n",
      " [  8 322]]\n",
      "confusion_matrix test is:  [[12 19]\n",
      " [ 1 91]]\n",
      "Wrong predictions out of total\n",
      "--------------------------------------------------\n",
      "20 / 123\n",
      "--------------------------------------------------\n",
      "KappaScore is:  0.46591402518454184\n"
     ]
    },
    {
     "name": "stderr",
     "output_type": "stream",
     "text": [
      "C:\\Users\\Rahul\\Anaconda3\\lib\\site-packages\\sklearn\\linear_model\\_logistic.py:940: ConvergenceWarning: lbfgs failed to converge (status=1):\n",
      "STOP: TOTAL NO. of ITERATIONS REACHED LIMIT.\n",
      "\n",
      "Increase the number of iterations (max_iter) or scale the data as shown in:\n",
      "    https://scikit-learn.org/stable/modules/preprocessing.html\n",
      "Please also refer to the documentation for alternative solver options:\n",
      "    https://scikit-learn.org/stable/modules/linear_model.html#logistic-regression\n",
      "  extra_warning_msg=_LOGISTIC_SOLVER_CONVERGENCE_MSG)\n"
     ]
    }
   ],
   "source": [
    "#fit the model on train data \n",
    "log_reg = LogisticRegression().fit(X_train, Y_train)\n",
    "\n",
    "#predict on train \n",
    "train_preds = log_reg.predict(X_train)\n",
    "#accuracy on train\n",
    "print(\"Model accuracy on train is: \", accuracy_score(Y_train, train_preds))\n",
    "\n",
    "#predict on test\n",
    "test_preds = log_reg.predict(X_test)\n",
    "#accuracy on test\n",
    "print(\"Model accuracy on test is: \", accuracy_score(Y_test, test_preds))\n",
    "print('-'*50)\n",
    "\n",
    "#We got good accuracy which means our model is performing quite well \n",
    "#ROC \n",
    "print(\"ROC score on train is: \", roc_auc_score(Y_train, train_preds))\n",
    "print(\"ROC score on test is: \", roc_auc_score(Y_test, test_preds))\n",
    "print('-'*50)\n",
    "\n",
    "#Confusion matrix\n",
    "print(\"confusion_matrix train is: \", confusion_matrix(Y_train, train_preds))\n",
    "print(\"confusion_matrix test is: \", confusion_matrix(Y_test, test_preds))\n",
    "print('Wrong predictions out of total')\n",
    "print('-'*50)\n",
    "\n",
    "# Wrong Predictions made.\n",
    "print((Y_test !=test_preds).sum(),'/',((Y_test == test_preds).sum()+(Y_test != test_preds).sum()))\n",
    "print('-'*50)\n",
    "\n",
    "# Kappa Score.\n",
    "print('KappaScore is: ', metrics.cohen_kappa_score(Y_test,test_preds))"
   ]
  },
  {
   "cell_type": "code",
   "execution_count": 32,
   "metadata": {},
   "outputs": [
    {
     "data": {
      "text/plain": [
       "array([1, 1, 1, 1, 1, 1, 1, 1, 1, 0, 1, 1, 1, 1, 1, 0, 1, 1, 1, 1, 0, 1,\n",
       "       1, 1, 1, 1, 1, 1, 1, 1, 1, 1, 1, 1, 1, 1, 1, 1, 1, 1, 0, 1, 1, 1,\n",
       "       1, 1, 1, 1, 0, 1, 1, 1, 1, 0, 1, 1, 1, 1, 1, 1, 0, 1, 1, 1, 1, 1,\n",
       "       1, 1, 1, 1, 1, 1, 1, 1, 1, 1, 1, 1, 1, 1, 1, 1, 1, 1, 1, 1, 1, 1,\n",
       "       1, 1, 1, 1, 1, 1, 1, 1, 1, 1, 1, 1, 1, 1, 1, 1, 0, 1, 0, 0, 1, 1,\n",
       "       0, 1, 1, 1, 1, 1, 0, 0, 1, 1, 1, 1, 1])"
      ]
     },
     "execution_count": 32,
     "metadata": {},
     "output_type": "execute_result"
    }
   ],
   "source": [
    "test_preds"
   ]
  },
  {
   "cell_type": "code",
   "execution_count": 33,
   "metadata": {},
   "outputs": [
    {
     "data": {
      "text/plain": [
       "(array([1, 1, 1, 1, 1, 1, 1, 1, 1, 0, 1, 1, 1, 1, 1, 0, 1, 1, 1, 1, 0, 1,\n",
       "        1, 1, 1, 1, 1, 1, 1, 1, 1, 1, 1, 1, 1, 1, 1, 1, 1, 1, 0, 1, 1, 1,\n",
       "        1, 1, 1, 1, 0, 1, 1, 1, 1, 0, 1, 1, 1, 1, 1, 1, 0, 1, 1, 1, 1, 1,\n",
       "        1, 1, 1, 1, 1, 1, 1, 1, 1, 1, 1, 1, 1, 1, 1, 1, 1, 1, 1, 1, 1, 1,\n",
       "        1, 1, 1, 1, 1, 1, 1, 1, 1, 1, 1, 1, 1, 1, 1, 1, 0, 1, 0, 0, 1, 1,\n",
       "        0, 1, 1, 1, 1, 1, 0, 0, 1, 1, 1, 1, 1]), 439    1\n",
       " 348    1\n",
       " 459    0\n",
       " 71     1\n",
       " 51     1\n",
       "       ..\n",
       " 200    1\n",
       " 192    0\n",
       " 159    1\n",
       " 372    1\n",
       " 275    1\n",
       " Name: Loan_Status, Length: 123, dtype: int32)"
      ]
     },
     "execution_count": 33,
     "metadata": {},
     "output_type": "execute_result"
    }
   ],
   "source": [
    "test_preds,Y_test"
   ]
  },
  {
   "cell_type": "code",
   "execution_count": 34,
   "metadata": {},
   "outputs": [],
   "source": [
    "ddf=pd.DataFrame(data=[test_preds,Y_test])"
   ]
  },
  {
   "cell_type": "code",
   "execution_count": 35,
   "metadata": {},
   "outputs": [
    {
     "data": {
      "text/html": [
       "<div>\n",
       "<style scoped>\n",
       "    .dataframe tbody tr th:only-of-type {\n",
       "        vertical-align: middle;\n",
       "    }\n",
       "\n",
       "    .dataframe tbody tr th {\n",
       "        vertical-align: top;\n",
       "    }\n",
       "\n",
       "    .dataframe thead th {\n",
       "        text-align: right;\n",
       "    }\n",
       "</style>\n",
       "<table border=\"1\" class=\"dataframe\">\n",
       "  <thead>\n",
       "    <tr style=\"text-align: right;\">\n",
       "      <th></th>\n",
       "      <th>0</th>\n",
       "      <th>1</th>\n",
       "    </tr>\n",
       "  </thead>\n",
       "  <tbody>\n",
       "    <tr>\n",
       "      <td>0</td>\n",
       "      <td>1</td>\n",
       "      <td>1</td>\n",
       "    </tr>\n",
       "    <tr>\n",
       "      <td>1</td>\n",
       "      <td>1</td>\n",
       "      <td>1</td>\n",
       "    </tr>\n",
       "    <tr>\n",
       "      <td>2</td>\n",
       "      <td>1</td>\n",
       "      <td>0</td>\n",
       "    </tr>\n",
       "    <tr>\n",
       "      <td>3</td>\n",
       "      <td>1</td>\n",
       "      <td>1</td>\n",
       "    </tr>\n",
       "    <tr>\n",
       "      <td>4</td>\n",
       "      <td>1</td>\n",
       "      <td>1</td>\n",
       "    </tr>\n",
       "    <tr>\n",
       "      <td>...</td>\n",
       "      <td>...</td>\n",
       "      <td>...</td>\n",
       "    </tr>\n",
       "    <tr>\n",
       "      <td>118</td>\n",
       "      <td>1</td>\n",
       "      <td>1</td>\n",
       "    </tr>\n",
       "    <tr>\n",
       "      <td>119</td>\n",
       "      <td>1</td>\n",
       "      <td>0</td>\n",
       "    </tr>\n",
       "    <tr>\n",
       "      <td>120</td>\n",
       "      <td>1</td>\n",
       "      <td>1</td>\n",
       "    </tr>\n",
       "    <tr>\n",
       "      <td>121</td>\n",
       "      <td>1</td>\n",
       "      <td>1</td>\n",
       "    </tr>\n",
       "    <tr>\n",
       "      <td>122</td>\n",
       "      <td>1</td>\n",
       "      <td>1</td>\n",
       "    </tr>\n",
       "  </tbody>\n",
       "</table>\n",
       "<p>123 rows × 2 columns</p>\n",
       "</div>"
      ],
      "text/plain": [
       "     0  1\n",
       "0    1  1\n",
       "1    1  1\n",
       "2    1  0\n",
       "3    1  1\n",
       "4    1  1\n",
       "..  .. ..\n",
       "118  1  1\n",
       "119  1  0\n",
       "120  1  1\n",
       "121  1  1\n",
       "122  1  1\n",
       "\n",
       "[123 rows x 2 columns]"
      ]
     },
     "execution_count": 35,
     "metadata": {},
     "output_type": "execute_result"
    }
   ],
   "source": [
    "ddf.T"
   ]
  },
  {
   "cell_type": "code",
   "execution_count": 36,
   "metadata": {},
   "outputs": [],
   "source": [
    "# Above 0 means Predicted Value and 1 is True Value."
   ]
  },
  {
   "cell_type": "code",
   "execution_count": 37,
   "metadata": {},
   "outputs": [],
   "source": [
    "import scikitplot as skplt\n",
    "import matplotlib.pyplot as plt"
   ]
  },
  {
   "cell_type": "code",
   "execution_count": 38,
   "metadata": {},
   "outputs": [
    {
     "data": {
      "image/png": "[encoded data removed]",
      "text/plain": [
       "<Figure size 432x288 with 1 Axes>"
      ]
     },
     "metadata": {
      "needs_background": "light"
     },
     "output_type": "display_data"
    }
   ],
   "source": [
    "skplt.metrics.plot_roc(Y_test,log_reg.predict_proba(X_test))\n",
    "plt.show()"
   ]
  },
  {
   "cell_type": "markdown",
   "metadata": {},
   "source": [
    "# NaiveBayes Classifier."
   ]
  },
  {
   "cell_type": "code",
   "execution_count": 39,
   "metadata": {},
   "outputs": [
    {
     "data": {
      "text/plain": [
       "GaussianNB(priors=None, var_smoothing=1e-09)"
      ]
     },
     "execution_count": 39,
     "metadata": {},
     "output_type": "execute_result"
    }
   ],
   "source": [
    "NB=GaussianNB()\n",
    "NB.fit(X_train,Y_train)"
   ]
  },
  {
   "cell_type": "code",
   "execution_count": 40,
   "metadata": {},
   "outputs": [
    {
     "name": "stdout",
     "output_type": "stream",
     "text": [
      "Model accuracy on train is:  0.7942973523421588\n",
      "Model accuracy on test is:  0.8130081300813008\n",
      "--------------------------------------------------\n",
      "ROC score on train is:  0.7149632975719933\n",
      "ROC score on test is:  0.6718092566619915\n",
      "--------------------------------------------------\n",
      "confusion_matrix train is:  [[ 78  83]\n",
      " [ 18 312]]\n",
      "confusion_matrix test is:  [[12 19]\n",
      " [ 4 88]]\n",
      "Wrong predictions out of total\n",
      "--------------------------------------------------\n",
      "23 / 123\n",
      "--------------------------------------------------\n",
      "KappaScore is:  0.40927124660680725\n"
     ]
    }
   ],
   "source": [
    "#fit the model on train data \n",
    "NB=GaussianNB()\n",
    "NB.fit(X_train,Y_train)\n",
    "\n",
    "#predict on train \n",
    "train_preds2 = NB.predict(X_train)\n",
    "#accuracy on train\n",
    "print(\"Model accuracy on train is: \", accuracy_score(Y_train, train_preds2))\n",
    "\n",
    "#predict on test\n",
    "test_preds2 = NB.predict(X_test)\n",
    "#accuracy on test\n",
    "print(\"Model accuracy on test is: \", accuracy_score(Y_test, test_preds2))\n",
    "print('-'*50)\n",
    "\n",
    "#We got good accuracy which means our model is performing quite well \n",
    "#ROC \n",
    "print(\"ROC score on train is: \", roc_auc_score(Y_train, train_preds2))\n",
    "print(\"ROC score on test is: \", roc_auc_score(Y_test, test_preds2))\n",
    "print('-'*50)\n",
    "\n",
    "#Confusion matrix\n",
    "print(\"confusion_matrix train is: \", confusion_matrix(Y_train, train_preds2))\n",
    "print(\"confusion_matrix test is: \", confusion_matrix(Y_test, test_preds2))\n",
    "print('Wrong predictions out of total')\n",
    "print('-'*50)\n",
    "\n",
    "# Wrong Predictions made.\n",
    "print((Y_test !=test_preds2).sum(),'/',((Y_test == test_preds2).sum()+(Y_test != test_preds2).sum()))\n",
    "print('-'*50)\n",
    "\n",
    "# Kappa Score\n",
    "print('KappaScore is: ', metrics.cohen_kappa_score(Y_test,test_preds2))"
   ]
  },
  {
   "cell_type": "markdown",
   "metadata": {},
   "source": [
    "# DecisionTree."
   ]
  },
  {
   "cell_type": "code",
   "execution_count": 41,
   "metadata": {},
   "outputs": [
    {
     "name": "stdout",
     "output_type": "stream",
     "text": [
      "Model accuracy on train is:  1.0\n",
      "Model accuracy on test is:  1.0\n",
      "--------------------------------------------------\n",
      "ROC score on train is:  1.0\n",
      "ROC score on test is:  1.0\n",
      "--------------------------------------------------\n",
      "confusion_matrix train is:  [[161   0]\n",
      " [  0 330]]\n",
      "confusion_matrix test is:  [[31  0]\n",
      " [ 0 92]]\n",
      "Wrong predictions out of total\n",
      "--------------------------------------------------\n",
      "0 / 123\n",
      "--------------------------------------------------\n",
      "KappaScore is:  1.0\n"
     ]
    }
   ],
   "source": [
    "#fit the model on train data \n",
    "DT = DecisionTreeClassifier().fit(X,Y)\n",
    "\n",
    "#predict on train \n",
    "train_preds3 = DT.predict(X_train)\n",
    "#accuracy on train\n",
    "print(\"Model accuracy on train is: \", accuracy_score(Y_train, train_preds3))\n",
    "\n",
    "#predict on test\n",
    "test_preds3 = DT.predict(X_test)\n",
    "#accuracy on test\n",
    "print(\"Model accuracy on test is: \", accuracy_score(Y_test, test_preds3))\n",
    "print('-'*50)\n",
    "\n",
    "#We got good accuracy which means our model is performing quite well \n",
    "#ROC \n",
    "print(\"ROC score on train is: \", roc_auc_score(Y_train, train_preds3))\n",
    "print(\"ROC score on test is: \", roc_auc_score(Y_test, test_preds3))\n",
    "print('-'*50)\n",
    "\n",
    "#Confusion matrix\n",
    "print(\"confusion_matrix train is: \", confusion_matrix(Y_train, train_preds3))\n",
    "print(\"confusion_matrix test is: \", confusion_matrix(Y_test, test_preds3))\n",
    "print('Wrong predictions out of total')\n",
    "print('-'*50)\n",
    "\n",
    "# Wrong Predictions made.\n",
    "print((Y_test !=test_preds3).sum(),'/',((Y_test == test_preds3).sum()+(Y_test != test_preds3).sum()))\n",
    "print('-'*50)\n",
    "\n",
    "# Kappa Score\n",
    "print('KappaScore is: ', metrics.cohen_kappa_score(Y_test,test_preds3))"
   ]
  },
  {
   "cell_type": "markdown",
   "metadata": {},
   "source": [
    "# RandomForestClassifier."
   ]
  },
  {
   "cell_type": "code",
   "execution_count": 42,
   "metadata": {},
   "outputs": [
    {
     "name": "stdout",
     "output_type": "stream",
     "text": [
      "Model accuracy on train is:  1.0\n",
      "Model accuracy on test is:  0.8211382113821138\n",
      "--------------------------------------------------\n",
      "ROC score on train is:  1.0\n",
      "ROC score on test is:  0.6772440392706873\n",
      "--------------------------------------------------\n",
      "confusion_matrix train is:  [[161   0]\n",
      " [  0 330]]\n",
      "confusion_matrix test is:  [[12 19]\n",
      " [ 3 89]]\n",
      "Wrong predictions out of total\n",
      "--------------------------------------------------\n",
      "22 / 123\n",
      "--------------------------------------------------\n",
      "KappaScore is:  0.4276649746192893\n"
     ]
    }
   ],
   "source": [
    "#fit the model on train data \n",
    "RF=RandomForestClassifier().fit(X_train,Y_train)\n",
    "#predict on train \n",
    "train_preds4 = RF.predict(X_train)\n",
    "#accuracy on train\n",
    "print(\"Model accuracy on train is: \", accuracy_score(Y_train, train_preds4))\n",
    "\n",
    "#predict on test\n",
    "test_preds4 = RF.predict(X_test)\n",
    "#accuracy on test\n",
    "print(\"Model accuracy on test is: \", accuracy_score(Y_test, test_preds4))\n",
    "print('-'*50)\n",
    "\n",
    "#We got good accuracy which means our model is performing quite well \n",
    "#ROC \n",
    "print(\"ROC score on train is: \", roc_auc_score(Y_train, train_preds4))\n",
    "print(\"ROC score on test is: \", roc_auc_score(Y_test, test_preds4))\n",
    "print('-'*50)\n",
    "\n",
    "#Confusion matrix\n",
    "print(\"confusion_matrix train is: \", confusion_matrix(Y_train, train_preds4))\n",
    "print(\"confusion_matrix test is: \", confusion_matrix(Y_test, test_preds4))\n",
    "print('Wrong predictions out of total')\n",
    "print('-'*50)\n",
    "\n",
    "# Wrong Predictions made.\n",
    "print((Y_test !=test_preds4).sum(),'/',((Y_test == test_preds4).sum()+(Y_test != test_preds4).sum()))\n",
    "print('-'*50)\n",
    "\n",
    "# Kappa Score\n",
    "print('KappaScore is: ', metrics.cohen_kappa_score(Y_test,test_preds4))"
   ]
  },
  {
   "cell_type": "markdown",
   "metadata": {},
   "source": [
    "# K-NearestNeighbours"
   ]
  },
  {
   "cell_type": "code",
   "execution_count": 43,
   "metadata": {},
   "outputs": [
    {
     "name": "stdout",
     "output_type": "stream",
     "text": [
      "Model accuracy on train is:  0.7331975560081466\n",
      "Model accuracy on test is:  0.6747967479674797\n",
      "--------------------------------------------------\n",
      "ROC score on train is:  0.6361095426312817\n",
      "ROC score on test is:  0.4831697054698457\n",
      "--------------------------------------------------\n",
      "confusion_matrix train is:  [[ 57 104]\n",
      " [ 27 303]]\n",
      "confusion_matrix test is:  [[ 3 28]\n",
      " [12 80]]\n",
      "Wrong predictions out of total\n",
      "--------------------------------------------------\n",
      "40 / 123\n",
      "--------------------------------------------------\n",
      "KappaScore is:  -0.040609137055837685\n"
     ]
    }
   ],
   "source": [
    "#fit the model on train data \n",
    "KNN = KNeighborsClassifier().fit(X_train,Y_train)\n",
    "#predict on train \n",
    "train_preds5 = KNN.predict(X_train)\n",
    "#accuracy on train\n",
    "print(\"Model accuracy on train is: \", accuracy_score(Y_train, train_preds5))\n",
    "\n",
    "#predict on test\n",
    "test_preds5 = KNN.predict(X_test)\n",
    "#accuracy on test\n",
    "print(\"Model accuracy on test is: \", accuracy_score(Y_test, test_preds5))\n",
    "print('-'*50)\n",
    "\n",
    "#We got good accuracy which means our model is performing quite well \n",
    "#ROC \n",
    "print(\"ROC score on train is: \", roc_auc_score(Y_train, train_preds5))\n",
    "print(\"ROC score on test is: \", roc_auc_score(Y_test, test_preds5))\n",
    "print('-'*50)\n",
    "\n",
    "#Confusion matrix\n",
    "print(\"confusion_matrix train is: \", confusion_matrix(Y_train, train_preds5))\n",
    "print(\"confusion_matrix test is: \", confusion_matrix(Y_test, test_preds5))\n",
    "print('Wrong predictions out of total')\n",
    "print('-'*50)\n",
    "\n",
    "# Wrong Predictions made.\n",
    "print((Y_test !=test_preds5).sum(),'/',((Y_test == test_preds5).sum()+(Y_test != test_preds5).sum()))\n",
    "\n",
    "print('-'*50)\n",
    "\n",
    "# Kappa Score\n",
    "print('KappaScore is: ', metrics.cohen_kappa_score(Y_test,test_preds5))"
   ]
  },
  {
   "cell_type": "markdown",
   "metadata": {},
   "source": [
    "# SupportVectorMachine"
   ]
  },
  {
   "cell_type": "code",
   "execution_count": 44,
   "metadata": {},
   "outputs": [
    {
     "name": "stdout",
     "output_type": "stream",
     "text": [
      "Model accuracy on train is:  0.7331975560081466\n",
      "Model accuracy on test is:  0.7642276422764228\n",
      "--------------------------------------------------\n",
      "ROC score on train is:  0.597939017504235\n",
      "ROC score on test is:  0.532258064516129\n",
      "--------------------------------------------------\n",
      "confusion_matrix train is:  [[ 33 128]\n",
      " [  3 327]]\n",
      "confusion_matrix test is:  [[ 2 29]\n",
      " [ 0 92]]\n",
      "Wrong predictions out of total\n",
      "--------------------------------------------------\n",
      "recall 1.0\n",
      "--------------------------------------------------\n",
      "29 / 123\n",
      "--------------------------------------------------\n",
      "KappaScore is:  0.09351969504447266\n"
     ]
    }
   ],
   "source": [
    "#fit the model on train data \n",
    "SVM = SVC(kernel='linear')\n",
    "SVM.fit(X_train, Y_train)\n",
    "\n",
    "#predict on train \n",
    "train_preds6 = SVM.predict(X_train)\n",
    "#accuracy on train\n",
    "print(\"Model accuracy on train is: \", accuracy_score(Y_train, train_preds6))\n",
    "\n",
    "#predict on test\n",
    "test_preds6 = SVM.predict(X_test)\n",
    "#accuracy on test\n",
    "print(\"Model accuracy on test is: \", accuracy_score(Y_test, test_preds6))\n",
    "print('-'*50)\n",
    "\n",
    "#We got good accuracy which means our model is performing quite well \n",
    "#ROC \n",
    "print(\"ROC score on train is: \", roc_auc_score(Y_train, train_preds6))\n",
    "print(\"ROC score on test is: \", roc_auc_score(Y_test, test_preds6))\n",
    "print('-'*50)\n",
    "\n",
    "#Confusion matrix\n",
    "print(\"confusion_matrix train is: \", confusion_matrix(Y_train, train_preds6))\n",
    "print(\"confusion_matrix test is: \", confusion_matrix(Y_test, test_preds6))\n",
    "print('Wrong predictions out of total')\n",
    "print('-'*50)\n",
    "\n",
    "print(\"recall\", metrics.recall_score(Y_test, test_preds6))\n",
    "print('-'*50)\n",
    "\n",
    "# Wrong Predictions made.\n",
    "print((Y_test !=test_preds6).sum(),'/',((Y_test == test_preds6).sum()+(Y_test != test_preds6).sum()))\n",
    "print('-'*50)\n",
    "\n",
    "# Kappa Score\n",
    "print('KappaScore is: ', metrics.cohen_kappa_score(Y_test,test_preds6))"
   ]
  },
  {
   "cell_type": "code",
   "execution_count": 45,
   "metadata": {},
   "outputs": [],
   "source": [
    "# 1.Higher Accuracy is given by LogisticRegression model that is 83% with 20 wrong predictions out of 123.\n",
    "# 2.Similar Accuracy is given by NaiveBayesClassifier with 81% accuracy with 23 wrong predictions out of 123.\n",
    "# 3.Random Forest Model gives us 82% accuracy with 21 wrong prediction out of 123.\n",
    "# 4.DecisionTreeClassifier has overfit with 100 percent accuracy."
   ]
  },
  {
   "cell_type": "markdown",
   "metadata": {},
   "source": [
    "# Testing on Test dataset."
   ]
  },
  {
   "cell_type": "code",
   "execution_count": 46,
   "metadata": {},
   "outputs": [
    {
     "data": {
      "text/html": [
       "<div>\n",
       "<style scoped>\n",
       "    .dataframe tbody tr th:only-of-type {\n",
       "        vertical-align: middle;\n",
       "    }\n",
       "\n",
       "    .dataframe tbody tr th {\n",
       "        vertical-align: top;\n",
       "    }\n",
       "\n",
       "    .dataframe thead th {\n",
       "        text-align: right;\n",
       "    }\n",
       "</style>\n",
       "<table border=\"1\" class=\"dataframe\">\n",
       "  <thead>\n",
       "    <tr style=\"text-align: right;\">\n",
       "      <th></th>\n",
       "      <th>Loan_ID</th>\n",
       "      <th>Gender</th>\n",
       "      <th>Married</th>\n",
       "      <th>Dependents</th>\n",
       "      <th>Education</th>\n",
       "      <th>Self_Employed</th>\n",
       "      <th>ApplicantIncome</th>\n",
       "      <th>CoapplicantIncome</th>\n",
       "      <th>LoanAmount</th>\n",
       "      <th>Loan_Amount_Term</th>\n",
       "      <th>Credit_History</th>\n",
       "      <th>Property_Area</th>\n",
       "    </tr>\n",
       "  </thead>\n",
       "  <tbody>\n",
       "    <tr>\n",
       "      <td>0</td>\n",
       "      <td>LP001015</td>\n",
       "      <td>Male</td>\n",
       "      <td>Yes</td>\n",
       "      <td>0</td>\n",
       "      <td>Graduate</td>\n",
       "      <td>No</td>\n",
       "      <td>5720</td>\n",
       "      <td>0</td>\n",
       "      <td>110.0</td>\n",
       "      <td>360.0</td>\n",
       "      <td>1.0</td>\n",
       "      <td>Urban</td>\n",
       "    </tr>\n",
       "    <tr>\n",
       "      <td>1</td>\n",
       "      <td>LP001022</td>\n",
       "      <td>Male</td>\n",
       "      <td>Yes</td>\n",
       "      <td>1</td>\n",
       "      <td>Graduate</td>\n",
       "      <td>No</td>\n",
       "      <td>3076</td>\n",
       "      <td>1500</td>\n",
       "      <td>126.0</td>\n",
       "      <td>360.0</td>\n",
       "      <td>1.0</td>\n",
       "      <td>Urban</td>\n",
       "    </tr>\n",
       "    <tr>\n",
       "      <td>2</td>\n",
       "      <td>LP001031</td>\n",
       "      <td>Male</td>\n",
       "      <td>Yes</td>\n",
       "      <td>2</td>\n",
       "      <td>Graduate</td>\n",
       "      <td>No</td>\n",
       "      <td>5000</td>\n",
       "      <td>1800</td>\n",
       "      <td>208.0</td>\n",
       "      <td>360.0</td>\n",
       "      <td>1.0</td>\n",
       "      <td>Urban</td>\n",
       "    </tr>\n",
       "    <tr>\n",
       "      <td>3</td>\n",
       "      <td>LP001035</td>\n",
       "      <td>Male</td>\n",
       "      <td>Yes</td>\n",
       "      <td>2</td>\n",
       "      <td>Graduate</td>\n",
       "      <td>No</td>\n",
       "      <td>2340</td>\n",
       "      <td>2546</td>\n",
       "      <td>100.0</td>\n",
       "      <td>360.0</td>\n",
       "      <td>NaN</td>\n",
       "      <td>Urban</td>\n",
       "    </tr>\n",
       "    <tr>\n",
       "      <td>4</td>\n",
       "      <td>LP001051</td>\n",
       "      <td>Male</td>\n",
       "      <td>No</td>\n",
       "      <td>0</td>\n",
       "      <td>Not Graduate</td>\n",
       "      <td>No</td>\n",
       "      <td>3276</td>\n",
       "      <td>0</td>\n",
       "      <td>78.0</td>\n",
       "      <td>360.0</td>\n",
       "      <td>1.0</td>\n",
       "      <td>Urban</td>\n",
       "    </tr>\n",
       "  </tbody>\n",
       "</table>\n",
       "</div>"
      ],
      "text/plain": [
       "    Loan_ID Gender Married Dependents     Education Self_Employed  \\\n",
       "0  LP001015   Male     Yes          0      Graduate            No   \n",
       "1  LP001022   Male     Yes          1      Graduate            No   \n",
       "2  LP001031   Male     Yes          2      Graduate            No   \n",
       "3  LP001035   Male     Yes          2      Graduate            No   \n",
       "4  LP001051   Male      No          0  Not Graduate            No   \n",
       "\n",
       "   ApplicantIncome  CoapplicantIncome  LoanAmount  Loan_Amount_Term  \\\n",
       "0             5720                  0       110.0             360.0   \n",
       "1             3076               1500       126.0             360.0   \n",
       "2             5000               1800       208.0             360.0   \n",
       "3             2340               2546       100.0             360.0   \n",
       "4             3276                  0        78.0             360.0   \n",
       "\n",
       "   Credit_History Property_Area  \n",
       "0             1.0         Urban  \n",
       "1             1.0         Urban  \n",
       "2             1.0         Urban  \n",
       "3             NaN         Urban  \n",
       "4             1.0         Urban  "
      ]
     },
     "execution_count": 46,
     "metadata": {},
     "output_type": "execute_result"
    }
   ],
   "source": [
    "# Observing the test data set.\n",
    "test_df.head()"
   ]
  },
  {
   "cell_type": "code",
   "execution_count": 47,
   "metadata": {},
   "outputs": [
    {
     "name": "stdout",
     "output_type": "stream",
     "text": [
      "<class 'pandas.core.frame.DataFrame'>\n",
      "RangeIndex: 367 entries, 0 to 366\n",
      "Data columns (total 12 columns):\n",
      "Loan_ID              367 non-null object\n",
      "Gender               356 non-null object\n",
      "Married              367 non-null object\n",
      "Dependents           357 non-null object\n",
      "Education            367 non-null object\n",
      "Self_Employed        344 non-null object\n",
      "ApplicantIncome      367 non-null int64\n",
      "CoapplicantIncome    367 non-null int64\n",
      "LoanAmount           362 non-null float64\n",
      "Loan_Amount_Term     361 non-null float64\n",
      "Credit_History       338 non-null float64\n",
      "Property_Area        367 non-null object\n",
      "dtypes: float64(3), int64(2), object(7)\n",
      "memory usage: 34.5+ KB\n"
     ]
    }
   ],
   "source": [
    "# Checking the overall information from the test data set.\n",
    "test_df.info()"
   ]
  },
  {
   "cell_type": "code",
   "execution_count": 48,
   "metadata": {},
   "outputs": [
    {
     "data": {
      "text/plain": [
       "Urban        140\n",
       "Semiurban    116\n",
       "Rural        111\n",
       "Name: Property_Area, dtype: int64"
      ]
     },
     "execution_count": 48,
     "metadata": {},
     "output_type": "execute_result"
    }
   ],
   "source": [
    "test_df['Property_Area'].value_counts()"
   ]
  },
  {
   "cell_type": "code",
   "execution_count": 49,
   "metadata": {},
   "outputs": [],
   "source": [
    "test_df=test_df.drop(['Loan_ID'],axis=1)"
   ]
  },
  {
   "cell_type": "code",
   "execution_count": 50,
   "metadata": {},
   "outputs": [
    {
     "data": {
      "text/plain": [
       "Gender               11\n",
       "Married               0\n",
       "Dependents           10\n",
       "Education             0\n",
       "Self_Employed        23\n",
       "ApplicantIncome       0\n",
       "CoapplicantIncome     0\n",
       "LoanAmount            5\n",
       "Loan_Amount_Term      6\n",
       "Credit_History       29\n",
       "Property_Area         0\n",
       "dtype: int64"
      ]
     },
     "execution_count": 50,
     "metadata": {},
     "output_type": "execute_result"
    }
   ],
   "source": [
    "# Checking for null values in the test dataset.\n",
    "test_df.isnull().sum()"
   ]
  },
  {
   "cell_type": "code",
   "execution_count": 51,
   "metadata": {},
   "outputs": [],
   "source": [
    "# Imputing the missing values in the test dataset.\n",
    "\n",
    "# Categorical data is imputed with mode and the numerical data is imputed with mean.\n",
    "\n",
    "test_df['Gender']=test_df['Gender'].fillna(test_df['Gender'].mode()[0])\n",
    "test_df['Dependents']=test_df['Dependents'].fillna(test_df['Dependents'].mode()[0])\n",
    "test_df['Self_Employed']=test_df['Self_Employed'].fillna(test_df['Self_Employed'].mode()[0])\n",
    "\n",
    "test_df['LoanAmount']=test_df['LoanAmount'].fillna(test_df['LoanAmount'].mean())\n",
    "test_df['Loan_Amount_Term']=test_df['Loan_Amount_Term'].fillna(test_df['Loan_Amount_Term'].mean())\n",
    "test_df['Credit_History']=test_df['Credit_History'].fillna(test_df['Credit_History'].mean())"
   ]
  },
  {
   "cell_type": "code",
   "execution_count": 52,
   "metadata": {},
   "outputs": [
    {
     "data": {
      "text/plain": [
       "Gender               0\n",
       "Married              0\n",
       "Dependents           0\n",
       "Education            0\n",
       "Self_Employed        0\n",
       "ApplicantIncome      0\n",
       "CoapplicantIncome    0\n",
       "LoanAmount           0\n",
       "Loan_Amount_Term     0\n",
       "Credit_History       0\n",
       "Property_Area        0\n",
       "dtype: int64"
      ]
     },
     "execution_count": 52,
     "metadata": {},
     "output_type": "execute_result"
    }
   ],
   "source": [
    "# hence we can see that there are no null values in the test dataset.\n",
    "test_df.isnull().sum()"
   ]
  },
  {
   "cell_type": "code",
   "execution_count": 53,
   "metadata": {},
   "outputs": [
    {
     "data": {
      "text/plain": [
       "Gender                 int32\n",
       "Married                int32\n",
       "Dependents             int32\n",
       "Education              int32\n",
       "Self_Employed          int32\n",
       "ApplicantIncome        int64\n",
       "CoapplicantIncome      int64\n",
       "LoanAmount           float64\n",
       "Loan_Amount_Term     float64\n",
       "Credit_History       float64\n",
       "Property_Area          int32\n",
       "dtype: object"
      ]
     },
     "execution_count": 53,
     "metadata": {},
     "output_type": "execute_result"
    }
   ],
   "source": [
    "# Label Encoding all the categorical variables\n",
    "\n",
    "cat_cols=['Gender','Married','Dependents','Education','Self_Employed','Property_Area']\n",
    "le=LabelEncoder()\n",
    "for i in cat_cols:\n",
    "    test_df[i]=le.fit_transform(test_df[i])\n",
    "test_df.dtypes    "
   ]
  },
  {
   "cell_type": "code",
   "execution_count": 54,
   "metadata": {},
   "outputs": [],
   "source": [
    "# LOG TRANSFORMATIONS to make the below variables more of a symmetric bell curve.\n",
    "test_df['totalIncome']=test_df['ApplicantIncome']+test_df['CoapplicantIncome']"
   ]
  },
  {
   "cell_type": "code",
   "execution_count": 55,
   "metadata": {},
   "outputs": [],
   "source": [
    "test_df['LogTotalIncome']=np.log(test_df['totalIncome'])"
   ]
  },
  {
   "cell_type": "code",
   "execution_count": 56,
   "metadata": {},
   "outputs": [],
   "source": [
    "test_df['LogLoanAmount']=np.log(test_df['LoanAmount'])"
   ]
  },
  {
   "cell_type": "code",
   "execution_count": 57,
   "metadata": {},
   "outputs": [],
   "source": [
    "# Predicting on test data."
   ]
  },
  {
   "cell_type": "code",
   "execution_count": 58,
   "metadata": {},
   "outputs": [],
   "source": [
    "finalpredic= log_reg.predict(test_df)"
   ]
  },
  {
   "cell_type": "code",
   "execution_count": 59,
   "metadata": {},
   "outputs": [],
   "source": [
    "test_df['Loan_Status']=finalpredic"
   ]
  },
  {
   "cell_type": "code",
   "execution_count": 60,
   "metadata": {},
   "outputs": [
    {
     "data": {
      "text/html": [
       "<div>\n",
       "<style scoped>\n",
       "    .dataframe tbody tr th:only-of-type {\n",
       "        vertical-align: middle;\n",
       "    }\n",
       "\n",
       "    .dataframe tbody tr th {\n",
       "        vertical-align: top;\n",
       "    }\n",
       "\n",
       "    .dataframe thead th {\n",
       "        text-align: right;\n",
       "    }\n",
       "</style>\n",
       "<table border=\"1\" class=\"dataframe\">\n",
       "  <thead>\n",
       "    <tr style=\"text-align: right;\">\n",
       "      <th></th>\n",
       "      <th>Gender</th>\n",
       "      <th>Married</th>\n",
       "      <th>Dependents</th>\n",
       "      <th>Education</th>\n",
       "      <th>Self_Employed</th>\n",
       "      <th>ApplicantIncome</th>\n",
       "      <th>CoapplicantIncome</th>\n",
       "      <th>LoanAmount</th>\n",
       "      <th>Loan_Amount_Term</th>\n",
       "      <th>Credit_History</th>\n",
       "      <th>Property_Area</th>\n",
       "      <th>totalIncome</th>\n",
       "      <th>LogTotalIncome</th>\n",
       "      <th>LogLoanAmount</th>\n",
       "      <th>Loan_Status</th>\n",
       "    </tr>\n",
       "  </thead>\n",
       "  <tbody>\n",
       "    <tr>\n",
       "      <td>0</td>\n",
       "      <td>1</td>\n",
       "      <td>1</td>\n",
       "      <td>0</td>\n",
       "      <td>0</td>\n",
       "      <td>0</td>\n",
       "      <td>5720</td>\n",
       "      <td>0</td>\n",
       "      <td>110.0</td>\n",
       "      <td>360.0</td>\n",
       "      <td>1.000000</td>\n",
       "      <td>2</td>\n",
       "      <td>5720</td>\n",
       "      <td>8.651724</td>\n",
       "      <td>4.700480</td>\n",
       "      <td>1</td>\n",
       "    </tr>\n",
       "    <tr>\n",
       "      <td>1</td>\n",
       "      <td>1</td>\n",
       "      <td>1</td>\n",
       "      <td>1</td>\n",
       "      <td>0</td>\n",
       "      <td>0</td>\n",
       "      <td>3076</td>\n",
       "      <td>1500</td>\n",
       "      <td>126.0</td>\n",
       "      <td>360.0</td>\n",
       "      <td>1.000000</td>\n",
       "      <td>2</td>\n",
       "      <td>4576</td>\n",
       "      <td>8.428581</td>\n",
       "      <td>4.836282</td>\n",
       "      <td>1</td>\n",
       "    </tr>\n",
       "    <tr>\n",
       "      <td>2</td>\n",
       "      <td>1</td>\n",
       "      <td>1</td>\n",
       "      <td>2</td>\n",
       "      <td>0</td>\n",
       "      <td>0</td>\n",
       "      <td>5000</td>\n",
       "      <td>1800</td>\n",
       "      <td>208.0</td>\n",
       "      <td>360.0</td>\n",
       "      <td>1.000000</td>\n",
       "      <td>2</td>\n",
       "      <td>6800</td>\n",
       "      <td>8.824678</td>\n",
       "      <td>5.337538</td>\n",
       "      <td>1</td>\n",
       "    </tr>\n",
       "    <tr>\n",
       "      <td>3</td>\n",
       "      <td>1</td>\n",
       "      <td>1</td>\n",
       "      <td>2</td>\n",
       "      <td>0</td>\n",
       "      <td>0</td>\n",
       "      <td>2340</td>\n",
       "      <td>2546</td>\n",
       "      <td>100.0</td>\n",
       "      <td>360.0</td>\n",
       "      <td>0.825444</td>\n",
       "      <td>2</td>\n",
       "      <td>4886</td>\n",
       "      <td>8.494129</td>\n",
       "      <td>4.605170</td>\n",
       "      <td>1</td>\n",
       "    </tr>\n",
       "    <tr>\n",
       "      <td>4</td>\n",
       "      <td>1</td>\n",
       "      <td>0</td>\n",
       "      <td>0</td>\n",
       "      <td>1</td>\n",
       "      <td>0</td>\n",
       "      <td>3276</td>\n",
       "      <td>0</td>\n",
       "      <td>78.0</td>\n",
       "      <td>360.0</td>\n",
       "      <td>1.000000</td>\n",
       "      <td>2</td>\n",
       "      <td>3276</td>\n",
       "      <td>8.094378</td>\n",
       "      <td>4.356709</td>\n",
       "      <td>1</td>\n",
       "    </tr>\n",
       "    <tr>\n",
       "      <td>...</td>\n",
       "      <td>...</td>\n",
       "      <td>...</td>\n",
       "      <td>...</td>\n",
       "      <td>...</td>\n",
       "      <td>...</td>\n",
       "      <td>...</td>\n",
       "      <td>...</td>\n",
       "      <td>...</td>\n",
       "      <td>...</td>\n",
       "      <td>...</td>\n",
       "      <td>...</td>\n",
       "      <td>...</td>\n",
       "      <td>...</td>\n",
       "      <td>...</td>\n",
       "      <td>...</td>\n",
       "    </tr>\n",
       "    <tr>\n",
       "      <td>362</td>\n",
       "      <td>1</td>\n",
       "      <td>1</td>\n",
       "      <td>3</td>\n",
       "      <td>1</td>\n",
       "      <td>1</td>\n",
       "      <td>4009</td>\n",
       "      <td>1777</td>\n",
       "      <td>113.0</td>\n",
       "      <td>360.0</td>\n",
       "      <td>1.000000</td>\n",
       "      <td>2</td>\n",
       "      <td>5786</td>\n",
       "      <td>8.663196</td>\n",
       "      <td>4.727388</td>\n",
       "      <td>1</td>\n",
       "    </tr>\n",
       "    <tr>\n",
       "      <td>363</td>\n",
       "      <td>1</td>\n",
       "      <td>1</td>\n",
       "      <td>0</td>\n",
       "      <td>0</td>\n",
       "      <td>0</td>\n",
       "      <td>4158</td>\n",
       "      <td>709</td>\n",
       "      <td>115.0</td>\n",
       "      <td>360.0</td>\n",
       "      <td>1.000000</td>\n",
       "      <td>2</td>\n",
       "      <td>4867</td>\n",
       "      <td>8.490233</td>\n",
       "      <td>4.744932</td>\n",
       "      <td>1</td>\n",
       "    </tr>\n",
       "    <tr>\n",
       "      <td>364</td>\n",
       "      <td>1</td>\n",
       "      <td>0</td>\n",
       "      <td>0</td>\n",
       "      <td>0</td>\n",
       "      <td>0</td>\n",
       "      <td>3250</td>\n",
       "      <td>1993</td>\n",
       "      <td>126.0</td>\n",
       "      <td>360.0</td>\n",
       "      <td>0.825444</td>\n",
       "      <td>1</td>\n",
       "      <td>5243</td>\n",
       "      <td>8.564649</td>\n",
       "      <td>4.836282</td>\n",
       "      <td>1</td>\n",
       "    </tr>\n",
       "    <tr>\n",
       "      <td>365</td>\n",
       "      <td>1</td>\n",
       "      <td>1</td>\n",
       "      <td>0</td>\n",
       "      <td>0</td>\n",
       "      <td>0</td>\n",
       "      <td>5000</td>\n",
       "      <td>2393</td>\n",
       "      <td>158.0</td>\n",
       "      <td>360.0</td>\n",
       "      <td>1.000000</td>\n",
       "      <td>0</td>\n",
       "      <td>7393</td>\n",
       "      <td>8.908289</td>\n",
       "      <td>5.062595</td>\n",
       "      <td>1</td>\n",
       "    </tr>\n",
       "    <tr>\n",
       "      <td>366</td>\n",
       "      <td>1</td>\n",
       "      <td>0</td>\n",
       "      <td>0</td>\n",
       "      <td>0</td>\n",
       "      <td>1</td>\n",
       "      <td>9200</td>\n",
       "      <td>0</td>\n",
       "      <td>98.0</td>\n",
       "      <td>180.0</td>\n",
       "      <td>1.000000</td>\n",
       "      <td>0</td>\n",
       "      <td>9200</td>\n",
       "      <td>9.126959</td>\n",
       "      <td>4.584967</td>\n",
       "      <td>1</td>\n",
       "    </tr>\n",
       "  </tbody>\n",
       "</table>\n",
       "<p>367 rows × 15 columns</p>\n",
       "</div>"
      ],
      "text/plain": [
       "     Gender  Married  Dependents  Education  Self_Employed  ApplicantIncome  \\\n",
       "0         1        1           0          0              0             5720   \n",
       "1         1        1           1          0              0             3076   \n",
       "2         1        1           2          0              0             5000   \n",
       "3         1        1           2          0              0             2340   \n",
       "4         1        0           0          1              0             3276   \n",
       "..      ...      ...         ...        ...            ...              ...   \n",
       "362       1        1           3          1              1             4009   \n",
       "363       1        1           0          0              0             4158   \n",
       "364       1        0           0          0              0             3250   \n",
       "365       1        1           0          0              0             5000   \n",
       "366       1        0           0          0              1             9200   \n",
       "\n",
       "     CoapplicantIncome  LoanAmount  Loan_Amount_Term  Credit_History  \\\n",
       "0                    0       110.0             360.0        1.000000   \n",
       "1                 1500       126.0             360.0        1.000000   \n",
       "2                 1800       208.0             360.0        1.000000   \n",
       "3                 2546       100.0             360.0        0.825444   \n",
       "4                    0        78.0             360.0        1.000000   \n",
       "..                 ...         ...               ...             ...   \n",
       "362               1777       113.0             360.0        1.000000   \n",
       "363                709       115.0             360.0        1.000000   \n",
       "364               1993       126.0             360.0        0.825444   \n",
       "365               2393       158.0             360.0        1.000000   \n",
       "366                  0        98.0             180.0        1.000000   \n",
       "\n",
       "     Property_Area  totalIncome  LogTotalIncome  LogLoanAmount  Loan_Status  \n",
       "0                2         5720        8.651724       4.700480            1  \n",
       "1                2         4576        8.428581       4.836282            1  \n",
       "2                2         6800        8.824678       5.337538            1  \n",
       "3                2         4886        8.494129       4.605170            1  \n",
       "4                2         3276        8.094378       4.356709            1  \n",
       "..             ...          ...             ...            ...          ...  \n",
       "362              2         5786        8.663196       4.727388            1  \n",
       "363              2         4867        8.490233       4.744932            1  \n",
       "364              1         5243        8.564649       4.836282            1  \n",
       "365              0         7393        8.908289       5.062595            1  \n",
       "366              0         9200        9.126959       4.584967            1  \n",
       "\n",
       "[367 rows x 15 columns]"
      ]
     },
     "execution_count": 60,
     "metadata": {},
     "output_type": "execute_result"
    }
   ],
   "source": [
    "test_df"
   ]
  },
  {
   "cell_type": "code",
   "execution_count": 61,
   "metadata": {},
   "outputs": [],
   "source": [
    "test_df.to_csv('Final_Predictions.csv')"
   ]
  }
 ],
 "metadata": {
  "kernelspec": {
   "display_name": "Python 3",
   "language": "python",
   "name": "python3"
  },
  "language_info": {
   "codemirror_mode": {
    "name": "ipython",
    "version": 3
   },
   "file_extension": ".py",
   "mimetype": "text/x-python",
   "name": "python",
   "nbconvert_exporter": "python",
   "pygments_lexer": "ipython3",
   "version": "3.7.4"
  }
 },
 "nbformat": 4,
 "nbformat_minor": 2
}
